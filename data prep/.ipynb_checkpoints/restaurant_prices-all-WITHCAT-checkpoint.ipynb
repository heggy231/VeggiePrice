{
 "cells": [
  {
   "cell_type": "code",
   "execution_count": null,
   "metadata": {
    "collapsed": true
   },
   "outputs": [],
   "source": [
    "# TODO: Add general overview of notebook"
   ]
  },
  {
   "cell_type": "code",
   "execution_count": null,
   "metadata": {
    "collapsed": true
   },
   "outputs": [],
   "source": [
    "# TODO: Add comments. It will help in the long run."
   ]
  },
  {
   "cell_type": "code",
   "execution_count": 1,
   "metadata": {
    "collapsed": false
   },
   "outputs": [
    {
     "ename": "ImportError",
     "evalue": "No module named inflect",
     "output_type": "error",
     "traceback": [
      "\u001b[0;31m---------------------------------------------------------------------------\u001b[0m",
      "\u001b[0;31mImportError\u001b[0m                               Traceback (most recent call last)",
      "\u001b[0;32m<ipython-input-1-7a18668b32f0>\u001b[0m in \u001b[0;36m<module>\u001b[0;34m()\u001b[0m\n\u001b[1;32m      4\u001b[0m \u001b[0;32mimport\u001b[0m \u001b[0mre\u001b[0m\u001b[0;34m\u001b[0m\u001b[0m\n\u001b[1;32m      5\u001b[0m \u001b[0;32mimport\u001b[0m \u001b[0mcsv\u001b[0m\u001b[0;34m\u001b[0m\u001b[0m\n\u001b[0;32m----> 6\u001b[0;31m \u001b[0;32mimport\u001b[0m \u001b[0minflect\u001b[0m\u001b[0;34m\u001b[0m\u001b[0m\n\u001b[0m\u001b[1;32m      7\u001b[0m \u001b[0mp\u001b[0m \u001b[0;34m=\u001b[0m \u001b[0minflect\u001b[0m\u001b[0;34m.\u001b[0m\u001b[0mengine\u001b[0m\u001b[0;34m(\u001b[0m\u001b[0;34m)\u001b[0m\u001b[0;34m\u001b[0m\u001b[0m\n",
      "\u001b[0;31mImportError\u001b[0m: No module named inflect"
     ]
    }
   ],
   "source": [
    "import pandas as pd\n",
    "import glob\n",
    "import numpy as np\n",
    "import re\n",
    "import csv\n",
    "import inflect\n",
    "p = inflect.engine()"
   ]
  },
  {
   "cell_type": "code",
   "execution_count": null,
   "metadata": {
    "collapsed": true
   },
   "outputs": [],
   "source": [
    "# NOTE: I didn't know about inflect package. I'm going to add it to my NLP course!"
   ]
  },
  {
   "cell_type": "code",
   "execution_count": 2,
   "metadata": {
    "collapsed": false
   },
   "outputs": [
    {
     "data": {
      "text/plain": [
       "[]"
      ]
     },
     "execution_count": 2,
     "metadata": {},
     "output_type": "execute_result"
    }
   ],
   "source": [
    "years = glob.glob(\"../LISTS by GROUP/Bay Area Resturants/20*\")\n",
    "years"
   ]
  },
  {
   "cell_type": "code",
   "execution_count": 3,
   "metadata": {
    "collapsed": false
   },
   "outputs": [
    {
     "data": {
      "text/plain": [
       "[]"
      ]
     },
     "execution_count": 3,
     "metadata": {},
     "output_type": "execute_result"
    }
   ],
   "source": [
    "def get_months(years):\n",
    "    months = []\n",
    "    for yr in years:\n",
    "        months.extend(glob.glob(yr + \"/*\"))\n",
    "    return months\n",
    "months = get_months(years)\n",
    "months"
   ]
  },
  {
   "cell_type": "code",
   "execution_count": 4,
   "metadata": {
    "collapsed": false
   },
   "outputs": [
    {
     "ename": "ValueError",
     "evalue": "list.remove(x): x not in list",
     "output_type": "error",
     "traceback": [
      "\u001b[0;31m---------------------------------------------------------------------------\u001b[0m",
      "\u001b[0;31mValueError\u001b[0m                                Traceback (most recent call last)",
      "\u001b[0;32m<ipython-input-4-236054011ed4>\u001b[0m in \u001b[0;36m<module>\u001b[0;34m()\u001b[0m\n\u001b[1;32m      6\u001b[0m     \u001b[0;32mreturn\u001b[0m \u001b[0mfiles\u001b[0m\u001b[0;34m\u001b[0m\u001b[0m\n\u001b[1;32m      7\u001b[0m \u001b[0mall_files\u001b[0m \u001b[0;34m=\u001b[0m \u001b[0mget_files\u001b[0m\u001b[0;34m(\u001b[0m\u001b[0mmonths\u001b[0m\u001b[0;34m)\u001b[0m\u001b[0;34m\u001b[0m\u001b[0m\n\u001b[0;32m----> 8\u001b[0;31m \u001b[0mall_files\u001b[0m\u001b[0;34m.\u001b[0m\u001b[0mremove\u001b[0m\u001b[0;34m(\u001b[0m\u001b[0;34m'../LISTS by GROUP/Bay Area Resturants/2013/March 2013/VegiWorks 3.29.13.xlsx'\u001b[0m\u001b[0;34m)\u001b[0m\u001b[0;34m\u001b[0m\u001b[0m\n\u001b[0m\u001b[1;32m      9\u001b[0m \u001b[0mlen\u001b[0m\u001b[0;34m(\u001b[0m\u001b[0mall_files\u001b[0m\u001b[0;34m)\u001b[0m\u001b[0;34m\u001b[0m\u001b[0m\n",
      "\u001b[0;31mValueError\u001b[0m: list.remove(x): x not in list"
     ]
    }
   ],
   "source": [
    "def get_files(months):\n",
    "    files = months[-13:]\n",
    "    for month in months[0:-13]:\n",
    "        files.extend(glob.glob(month + \"/*.xls\"))\n",
    "        files.extend(glob.glob(month + \"/*.xlsx\"))\n",
    "    return files\n",
    "all_files = get_files(months)\n",
    "all_files.remove('../LISTS by GROUP/Bay Area Resturants/2013/March 2013/VegiWorks 3.29.13.xlsx')\n",
    "len(all_files)"
   ]
  },
  {
   "cell_type": "code",
   "execution_count": 5,
   "metadata": {
    "collapsed": true
   },
   "outputs": [],
   "source": [
    "def import_data(filename):\n",
    "    dt = filename.split()[-1]\n",
    "    data = pd.read_excel(filename)\n",
    "    cat = 'MISSING'\n",
    "    for i, row in data.iterrows():\n",
    "        if row[0] == 'PRODUCT':\n",
    "            new = data[i:].reset_index().drop(['index'], axis=1)\n",
    "            table1 = new.iloc[1:,:5]\n",
    "            table1.columns = new.iloc[0,:5]\n",
    "            table1 = table1.drop([np.nan], axis=1)\n",
    "            #print table1.columns\n",
    "            regex = re.compile('[^a-zA-Z]')\n",
    "            table1.columns = map(lambda x: regex.sub('',x),table1.columns)\n",
    "            if row[6] == 'PRODUCT':\n",
    "                table2 = new.iloc[1:,6:]\n",
    "                table2 = table2.drop(table2.columns[[1]], axis=1)\n",
    "                if len(table2.columns) == len(table1.columns):\n",
    "                    table2.columns = table1.columns\n",
    "                    result = pd.concat([table1, table2], axis=0)\n",
    "                else:\n",
    "                    result = table1\n",
    "            else:\n",
    "                result = table1\n",
    "            non_decimal = re.compile(r'[^\\d.]+')\n",
    "            result['DATE'] = non_decimal.sub('',dt)\n",
    "            result['file_name'] = filename\n",
    "            result['YEAR'] = result['DATE'].apply(lambda x: str(x).split('.')[-2] if x != '.' else 14)\n",
    "            result['MONTH'] = result['DATE'].apply(lambda x: str(x).split('.')[0] if x != '.' else 11)\n",
    "            #output = result[result['FARM'].notnull()]\n",
    "            #output = output[output['PRODUCT'].notnull()]\n",
    "            output = result[result['PRODUCT'].notnull()]\n",
    "            return output#[output['PRICE'].notnull()]"
   ]
  },
  {
   "cell_type": "markdown",
   "metadata": {},
   "source": [
    "#### TODO: I don't how slow this is but looping over rows could be optimitized.\n",
    "[reference](http://nbviewer.ipython.org/github/rasbt/python_reference/blob/master/tutorials/things_in_pandas.ipynb)"
   ]
  },
  {
   "cell_type": "code",
   "execution_count": 6,
   "metadata": {
    "collapsed": false
   },
   "outputs": [],
   "source": [
    "def compile_data(all_files): # TODO: Rename `join_data`. You aren't compiling\n",
    "    data = import_data(all_files[0])\n",
    "    for xl in all_files[1:]: # TODO: `for file_name in file_list:`\n",
    "        add_table = import_data(xl)\n",
    "        data = pd.concat([data, add_table],ignore_index=True, axis =0)\n",
    "    return data"
   ]
  },
  {
   "cell_type": "code",
   "execution_count": 7,
   "metadata": {
    "collapsed": false
   },
   "outputs": [
    {
     "data": {
      "text/html": [
       "<div>\n",
       "<table border=\"1\" class=\"dataframe\">\n",
       "  <thead>\n",
       "    <tr style=\"text-align: right;\">\n",
       "      <th></th>\n",
       "      <th>PRODUCT</th>\n",
       "      <th>FARM</th>\n",
       "      <th>CT</th>\n",
       "      <th>PRICE</th>\n",
       "      <th>DATE</th>\n",
       "      <th>file_name</th>\n",
       "      <th>YEAR</th>\n",
       "      <th>MONTH</th>\n",
       "    </tr>\n",
       "  </thead>\n",
       "  <tbody>\n",
       "    <tr>\n",
       "      <th>0</th>\n",
       "      <td>CHICORIES</td>\n",
       "      <td>NaN</td>\n",
       "      <td>NaN</td>\n",
       "      <td>NaN</td>\n",
       "      <td>01.05.15.</td>\n",
       "      <td>../LISTS by GROUP/Bay Area Resturants/2015/Cit...</td>\n",
       "      <td>15</td>\n",
       "      <td>01</td>\n",
       "    </tr>\n",
       "    <tr>\n",
       "      <th>1</th>\n",
       "      <td>Super Baby Chicory Mix</td>\n",
       "      <td>Marin</td>\n",
       "      <td>3 LB</td>\n",
       "      <td>24</td>\n",
       "      <td>01.05.15.</td>\n",
       "      <td>../LISTS by GROUP/Bay Area Resturants/2015/Cit...</td>\n",
       "      <td>15</td>\n",
       "      <td>01</td>\n",
       "    </tr>\n",
       "    <tr>\n",
       "      <th>2</th>\n",
       "      <td>Fall Chicory Mix</td>\n",
       "      <td>Marin</td>\n",
       "      <td>5 LB</td>\n",
       "      <td>20</td>\n",
       "      <td>01.05.15.</td>\n",
       "      <td>../LISTS by GROUP/Bay Area Resturants/2015/Cit...</td>\n",
       "      <td>15</td>\n",
       "      <td>01</td>\n",
       "    </tr>\n",
       "    <tr>\n",
       "      <th>3</th>\n",
       "      <td>Castel Franco</td>\n",
       "      <td>Marin</td>\n",
       "      <td>5 LB</td>\n",
       "      <td>20</td>\n",
       "      <td>01.05.15.</td>\n",
       "      <td>../LISTS by GROUP/Bay Area Resturants/2015/Cit...</td>\n",
       "      <td>15</td>\n",
       "      <td>01</td>\n",
       "    </tr>\n",
       "    <tr>\n",
       "      <th>4</th>\n",
       "      <td>Chioggia Variegata</td>\n",
       "      <td>Marin</td>\n",
       "      <td>5 LB</td>\n",
       "      <td>20</td>\n",
       "      <td>01.05.15.</td>\n",
       "      <td>../LISTS by GROUP/Bay Area Resturants/2015/Cit...</td>\n",
       "      <td>15</td>\n",
       "      <td>01</td>\n",
       "    </tr>\n",
       "  </tbody>\n",
       "</table>\n",
       "</div>"
      ],
      "text/plain": [
       "                  PRODUCT   FARM    CT PRICE       DATE  \\\n",
       "0               CHICORIES    NaN   NaN   NaN  01.05.15.   \n",
       "1  Super Baby Chicory Mix  Marin  3 LB    24  01.05.15.   \n",
       "2        Fall Chicory Mix  Marin  5 LB    20  01.05.15.   \n",
       "3           Castel Franco  Marin  5 LB    20  01.05.15.   \n",
       "4      Chioggia Variegata  Marin  5 LB    20  01.05.15.   \n",
       "\n",
       "                                           file_name YEAR MONTH  \n",
       "0  ../LISTS by GROUP/Bay Area Resturants/2015/Cit...   15    01  \n",
       "1  ../LISTS by GROUP/Bay Area Resturants/2015/Cit...   15    01  \n",
       "2  ../LISTS by GROUP/Bay Area Resturants/2015/Cit...   15    01  \n",
       "3  ../LISTS by GROUP/Bay Area Resturants/2015/Cit...   15    01  \n",
       "4  ../LISTS by GROUP/Bay Area Resturants/2015/Cit...   15    01  "
      ]
     },
     "execution_count": 7,
     "metadata": {},
     "output_type": "execute_result"
    }
   ],
   "source": [
    "restaurant_prices = compile_data(all_files)\n",
    "restaurant_prices.head()"
   ]
  },
  {
   "cell_type": "code",
   "execution_count": 62,
   "metadata": {
    "collapsed": false
   },
   "outputs": [
    {
     "data": {
      "text/plain": [
       "(19573, 18)"
      ]
     },
     "execution_count": 62,
     "metadata": {},
     "output_type": "execute_result"
    }
   ],
   "source": [
    "def cleaning(data):\n",
    "    df = data.fillna('category')\n",
    "    df['PRODUCT'] = df['PRODUCT'].apply(lambda x: x.replace('w/', 'with'))\n",
    "    df['PRODUCT'] = df['PRODUCT'].apply(lambda x: x.replace('&', ' '))\n",
    "    df['PRODUCT'] = df['PRODUCT'].apply(lambda x: x.replace('/', ' '))\n",
    "    df['PRODUCT'] = df['PRODUCT'].apply(lambda x: x.replace(',', ' '))\n",
    "    df['PRODUCT'] = df['PRODUCT'].apply(lambda x: x.replace('-', ' '))\n",
    "    df['PRODUCT'] = df['PRODUCT'].apply(lambda x: x.encode('ascii','ignore'))\n",
    "    regex = re.compile('[^a-zA-Z ]')\n",
    "    df['PRODUCT'] = df['PRODUCT'].apply(lambda x: regex.sub('',x))\n",
    "    df['PRODUCT'] = df['PRODUCT'].apply(lambda x: re.sub( '\\s+', ' ', str(x).lower().strip()))\n",
    "    df['PRODUCT_LIST'] = df['PRODUCT'].apply(lambda x: x.split())\n",
    "    for i, row in df.iterrows():\n",
    "        new = []\n",
    "        for word in row['PRODUCT_LIST']:\n",
    "            if p.singular_noun(word)==False:\n",
    "                new.append(word)\n",
    "            else:\n",
    "                new.append(p.singular_noun(word))\n",
    "        df.loc[i, 'PRODUCT'] = ' '.join(new)\n",
    "    df['FARM'] = df['FARM'].apply(lambda x: str(x).lower())\n",
    "    df['FARM'] = df['FARM'].apply(lambda x: str(x).replace('valley',''))\n",
    "    df['FARM'] = df['FARM'].apply(lambda x: x.strip())\n",
    "    df['CT'] = df['CT'].apply(lambda x: str(x).lower())\n",
    "    df['CT'] = df['CT'].apply(lambda x: str(x).replace('lbs',' lb'))\n",
    "    df['CT'] = df['CT'].apply(lambda x: str(x).replace('#',' lb'))\n",
    "    df['CT'] = df['CT'].apply(lambda x: str(x).replace('lb',' lb'))\n",
    "    df['CT'] = df['CT'].apply(lambda x: str(x).replace('ct',' ct'))\n",
    "    df['CT'] = df['CT'].apply(lambda x: str(x).replace('bu',' bu'))\n",
    "    df['CT'] = df['CT'].apply(lambda x: str(x).replace('lb20','20 lb'))\n",
    "    df['CT'] = df['CT'].apply(lambda x: str(x).replace('/',' / '))\n",
    "    df['PRICE'] = df['PRICE'].apply(lambda x: str(x).replace('/',' / '))\n",
    "    df['PRICE'] = df['PRICE'].apply(lambda x: str(x).replace('$',''))\n",
    "    df['CT'] = df['CT'].apply(lambda x: '1 flat' if x == 'flat' else x)\n",
    "    df['ct_flag'] = df['CT'].apply(lambda x: x.split())\n",
    "    df['price_flag'] = df['PRICE'].apply(lambda x: str(x).split())\n",
    "    df['ct_len'] = df['ct_flag'].apply(lambda x: len(x))\n",
    "    df['price_len'] = df['price_flag'].apply(lambda x: len(x))\n",
    "    df['CAT'] = \"MISSING\"\n",
    "    cat = \"MISSING\"\n",
    "    for i, row in df.iterrows():\n",
    "        if row['FARM']=='category':\n",
    "            cat = row['PRODUCT']\n",
    "        df.loc[i, 'CAT'] = cat\n",
    "        if row['ct_len']==5:\n",
    "            row['CT'] = ' '.join(row['ct_flag'][:2])\n",
    "            df.loc[i, 'CT'] = ' '.join(row['ct_flag'][3:])\n",
    "            if row['price_len']==3:\n",
    "                row['PRICE'] = row['price_flag'][0]\n",
    "                df.loc[i, 'PRICE'] = row['price_flag'][-3]\n",
    "            df = df.append(row, ignore_index=True)\n",
    "        elif row['ct_len']==3:\n",
    "            df.loc[i,'CT'] = '12 bulbs'\n",
    "        elif row['ct_len'] == 4:\n",
    "            df.loc[i,'CT'] = ' '.join([str(float(row['ct_flag'][0])/float(row['ct_flag'][2])), row['ct_flag'][3]])\n",
    "        elif row['ct_len']==2 and row['price_len']==3:\n",
    "            df.loc[i,'CT'] = '1 lb'\n",
    "            df.loc[i,'PRICE'] = row[9][0]\n",
    "    df = df[df['FARM']!='category'][df['PRICE']!='category'][df['CT']!='category'].reset_index()\n",
    "    df['ct_flag'] = df['CT'].apply(lambda x: x.split())\n",
    "    df['price_flag'] = df['PRICE'].apply(lambda x: str(x).split())\n",
    "    df['ct_len'] = df['ct_flag'].apply(lambda x: len(x))\n",
    "    df['price_len'] = df['price_flag'].apply(lambda x: len(x))  \n",
    "    df['QUANTITY'] = df['CT'].apply(lambda x: x.split()[0])\n",
    "    df['UNIT'] = df['CT'].apply(lambda x: x.split()[1])\n",
    "    df[['PRICE','QUANTITY']] = df[['PRICE','QUANTITY']].convert_objects(convert_numeric=True)\n",
    "    df['PRICE_PER_UNIT'] = df['PRICE']/df['QUANTITY']\n",
    "    df['CT'] = df['CT'].apply(lambda x: str(x).replace('  ',' '))\n",
    "    df['PRICE'] = df['PRICE'].apply(lambda x: str(x).replace('  ',' '))\n",
    "    return df\n",
    "cleaned = cleaning(restaurant_prices)\n",
    "cleaned.shape"
   ]
  },
  {
   "cell_type": "markdown",
   "metadata": {},
   "source": [
    "#### TODO: Lowercase all columns. Trust me, it is way better.\n",
    "[reference](http://nbviewer.ipython.org/github/rasbt/python_reference/blob/master/tutorials/things_in_pandas.ipynb)"
   ]
  },
  {
   "cell_type": "code",
   "execution_count": 63,
   "metadata": {
    "collapsed": false
   },
   "outputs": [],
   "source": [
    "cleaned.drop(['ct_flag', 'price_flag','ct_len','price_len'], axis=1).to_csv('all_res_prices.csv',encoding='utf-8')"
   ]
  },
  {
   "cell_type": "code",
   "execution_count": 5,
   "metadata": {
    "collapsed": false
   },
   "outputs": [
    {
     "data": {
      "text/html": [
       "<div>\n",
       "<table border=\"1\" class=\"dataframe\">\n",
       "  <thead>\n",
       "    <tr style=\"text-align: right;\">\n",
       "      <th></th>\n",
       "      <th>PRODUCT</th>\n",
       "      <th>FARM</th>\n",
       "      <th>CT</th>\n",
       "      <th>PRICE</th>\n",
       "      <th>DATE</th>\n",
       "      <th>file_name</th>\n",
       "      <th>YEAR</th>\n",
       "      <th>MONTH</th>\n",
       "      <th>PRODUCT_LIST</th>\n",
       "      <th>QUANTITY</th>\n",
       "      <th>UNIT</th>\n",
       "      <th>PRICE_PER_UNIT</th>\n",
       "    </tr>\n",
       "  </thead>\n",
       "  <tbody>\n",
       "    <tr>\n",
       "      <th>0</th>\n",
       "      <td>super baby chicory mix</td>\n",
       "      <td>marin</td>\n",
       "      <td>3 lb</td>\n",
       "      <td>24</td>\n",
       "      <td>01.05.15.</td>\n",
       "      <td>../LISTS by GROUP/Bay Area Resturants/2015/Cit...</td>\n",
       "      <td>15</td>\n",
       "      <td>1</td>\n",
       "      <td>[super, baby, chicory, mix]</td>\n",
       "      <td>3</td>\n",
       "      <td>lb</td>\n",
       "      <td>8</td>\n",
       "    </tr>\n",
       "    <tr>\n",
       "      <th>1</th>\n",
       "      <td>fall chicory mix</td>\n",
       "      <td>marin</td>\n",
       "      <td>5 lb</td>\n",
       "      <td>20</td>\n",
       "      <td>01.05.15.</td>\n",
       "      <td>../LISTS by GROUP/Bay Area Resturants/2015/Cit...</td>\n",
       "      <td>15</td>\n",
       "      <td>1</td>\n",
       "      <td>[fall, chicory, mix]</td>\n",
       "      <td>5</td>\n",
       "      <td>lb</td>\n",
       "      <td>4</td>\n",
       "    </tr>\n",
       "    <tr>\n",
       "      <th>2</th>\n",
       "      <td>castel franco</td>\n",
       "      <td>marin</td>\n",
       "      <td>5 lb</td>\n",
       "      <td>20</td>\n",
       "      <td>01.05.15.</td>\n",
       "      <td>../LISTS by GROUP/Bay Area Resturants/2015/Cit...</td>\n",
       "      <td>15</td>\n",
       "      <td>1</td>\n",
       "      <td>[castel, franco]</td>\n",
       "      <td>5</td>\n",
       "      <td>lb</td>\n",
       "      <td>4</td>\n",
       "    </tr>\n",
       "    <tr>\n",
       "      <th>3</th>\n",
       "      <td>chioggia variegata</td>\n",
       "      <td>marin</td>\n",
       "      <td>5 lb</td>\n",
       "      <td>20</td>\n",
       "      <td>01.05.15.</td>\n",
       "      <td>../LISTS by GROUP/Bay Area Resturants/2015/Cit...</td>\n",
       "      <td>15</td>\n",
       "      <td>1</td>\n",
       "      <td>[chioggia, variegata]</td>\n",
       "      <td>5</td>\n",
       "      <td>lb</td>\n",
       "      <td>4</td>\n",
       "    </tr>\n",
       "    <tr>\n",
       "      <th>4</th>\n",
       "      <td>palla rossa</td>\n",
       "      <td>marin</td>\n",
       "      <td>5 lb</td>\n",
       "      <td>20</td>\n",
       "      <td>01.05.15.</td>\n",
       "      <td>../LISTS by GROUP/Bay Area Resturants/2015/Cit...</td>\n",
       "      <td>15</td>\n",
       "      <td>1</td>\n",
       "      <td>[palla, rossa]</td>\n",
       "      <td>5</td>\n",
       "      <td>lb</td>\n",
       "      <td>4</td>\n",
       "    </tr>\n",
       "  </tbody>\n",
       "</table>\n",
       "</div>"
      ],
      "text/plain": [
       "                  PRODUCT   FARM    CT  PRICE       DATE  \\\n",
       "0  super baby chicory mix  marin  3 lb     24  01.05.15.   \n",
       "1        fall chicory mix  marin  5 lb     20  01.05.15.   \n",
       "2           castel franco  marin  5 lb     20  01.05.15.   \n",
       "3      chioggia variegata  marin  5 lb     20  01.05.15.   \n",
       "4             palla rossa  marin  5 lb     20  01.05.15.   \n",
       "\n",
       "                                           file_name  YEAR  MONTH  \\\n",
       "0  ../LISTS by GROUP/Bay Area Resturants/2015/Cit...    15      1   \n",
       "1  ../LISTS by GROUP/Bay Area Resturants/2015/Cit...    15      1   \n",
       "2  ../LISTS by GROUP/Bay Area Resturants/2015/Cit...    15      1   \n",
       "3  ../LISTS by GROUP/Bay Area Resturants/2015/Cit...    15      1   \n",
       "4  ../LISTS by GROUP/Bay Area Resturants/2015/Cit...    15      1   \n",
       "\n",
       "                  PRODUCT_LIST  QUANTITY UNIT  PRICE_PER_UNIT  \n",
       "0  [super, baby, chicory, mix]         3   lb               8  \n",
       "1         [fall, chicory, mix]         5   lb               4  \n",
       "2             [castel, franco]         5   lb               4  \n",
       "3        [chioggia, variegata]         5   lb               4  \n",
       "4               [palla, rossa]         5   lb               4  "
      ]
     },
     "execution_count": 5,
     "metadata": {},
     "output_type": "execute_result"
    }
   ],
   "source": [
    "cleaning = pd.read_csv('all_res_prices.csv').drop(['Unnamed: 0','index', 'CAT'], axis=1)\n",
    "cleaning.head()"
   ]
  },
  {
   "cell_type": "code",
   "execution_count": 6,
   "metadata": {
    "collapsed": false
   },
   "outputs": [
    {
     "ename": "NameError",
     "evalue": "name 'restaurant_prices' is not defined",
     "output_type": "error",
     "traceback": [
      "\u001b[0;31m---------------------------------------------------------------------------\u001b[0m",
      "\u001b[0;31mNameError\u001b[0m                                 Traceback (most recent call last)",
      "\u001b[0;32m<ipython-input-6-ee3a9c7a8318>\u001b[0m in \u001b[0;36m<module>\u001b[0;34m()\u001b[0m\n\u001b[0;32m----> 1\u001b[0;31m \u001b[0mrestaurant_prices\u001b[0m\u001b[0;34m.\u001b[0m\u001b[0mhead\u001b[0m\u001b[0;34m(\u001b[0m\u001b[0;34m)\u001b[0m\u001b[0;34m\u001b[0m\u001b[0m\n\u001b[0m",
      "\u001b[0;31mNameError\u001b[0m: name 'restaurant_prices' is not defined"
     ]
    }
   ],
   "source": [
    "restaurant_prices.head()"
   ]
  },
  {
   "cell_type": "code",
   "execution_count": 8,
   "metadata": {
    "collapsed": false
   },
   "outputs": [],
   "source": [
    "mapping = pd.read_csv('../Product_Category_Mapping2.csv')"
   ]
  },
  {
   "cell_type": "code",
   "execution_count": 9,
   "metadata": {
    "collapsed": false
   },
   "outputs": [
    {
     "data": {
      "text/html": [
       "<div>\n",
       "<table border=\"1\" class=\"dataframe\">\n",
       "  <thead>\n",
       "    <tr style=\"text-align: right;\">\n",
       "      <th></th>\n",
       "      <th>PRODUCT</th>\n",
       "      <th>CAT</th>\n",
       "    </tr>\n",
       "  </thead>\n",
       "  <tbody>\n",
       "    <tr>\n",
       "      <th>0</th>\n",
       "      <td>super baby chicory mix</td>\n",
       "      <td>chicory</td>\n",
       "    </tr>\n",
       "    <tr>\n",
       "      <th>1</th>\n",
       "      <td>fall chicory mix</td>\n",
       "      <td>chicory</td>\n",
       "    </tr>\n",
       "    <tr>\n",
       "      <th>2</th>\n",
       "      <td>castel franco</td>\n",
       "      <td>chicory</td>\n",
       "    </tr>\n",
       "    <tr>\n",
       "      <th>3</th>\n",
       "      <td>chioggia variegata</td>\n",
       "      <td>chicory</td>\n",
       "    </tr>\n",
       "    <tr>\n",
       "      <th>4</th>\n",
       "      <td>palla rossa</td>\n",
       "      <td>chicory</td>\n",
       "    </tr>\n",
       "  </tbody>\n",
       "</table>\n",
       "</div>"
      ],
      "text/plain": [
       "                  PRODUCT      CAT\n",
       "0  super baby chicory mix  chicory\n",
       "1        fall chicory mix  chicory\n",
       "2           castel franco  chicory\n",
       "3      chioggia variegata  chicory\n",
       "4             palla rossa  chicory"
      ]
     },
     "execution_count": 9,
     "metadata": {},
     "output_type": "execute_result"
    }
   ],
   "source": [
    "mapping.head()"
   ]
  },
  {
   "cell_type": "code",
   "execution_count": 10,
   "metadata": {
    "collapsed": false
   },
   "outputs": [],
   "source": [
    "df_cat = cleaning.merge(mapping, left_on='PRODUCT', right_on='PRODUCT')"
   ]
  },
  {
   "cell_type": "code",
   "execution_count": 11,
   "metadata": {
    "collapsed": false
   },
   "outputs": [],
   "source": [
    "df_cat.to_csv('cleaned_res_data2.csv',encoding='utf-8')"
   ]
  },
  {
   "cell_type": "code",
   "execution_count": null,
   "metadata": {
    "collapsed": true
   },
   "outputs": [],
   "source": []
  }
 ],
 "metadata": {
  "kernelspec": {
   "display_name": "Python 2",
   "language": "python",
   "name": "python2"
  },
  "language_info": {
   "codemirror_mode": {
    "name": "ipython",
    "version": 2
   },
   "file_extension": ".py",
   "mimetype": "text/x-python",
   "name": "python",
   "nbconvert_exporter": "python",
   "pygments_lexer": "ipython2",
   "version": "2.7.10"
  }
 },
 "nbformat": 4,
 "nbformat_minor": 0
}
