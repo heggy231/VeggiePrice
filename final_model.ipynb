{
 "cells": [
  {
   "cell_type": "code",
   "execution_count": null,
   "metadata": {
    "collapsed": true
   },
   "outputs": [],
   "source": []
  },
  {
   "cell_type": "code",
   "execution_count": 262,
   "metadata": {
    "collapsed": false
   },
   "outputs": [],
   "source": [
    "import pandas as pd\n",
    "import glob\n",
    "import numpy as np\n",
    "import re\n",
    "import csv\n",
    "import random\n",
    "from sklearn.cross_validation import train_test_split\n",
    "from sklearn.linear_model import LinearRegression\n",
    "from sklearn.feature_extraction.text import TfidfVectorizer, CountVectorizer\n",
    "import statsmodels.api as sm\n",
    "import statsmodels.formula.api as fsm\n",
    "from sklearn.ensemble import RandomForestRegressor\n",
    "from sklearn import (cross_validation, cluster, datasets, decomposition, ensemble, preprocessing, metrics)"
   ]
  },
  {
   "cell_type": "markdown",
   "metadata": {},
   "source": [
    "#Import Cleaned Data"
   ]
  },
  {
   "cell_type": "code",
   "execution_count": 263,
   "metadata": {
    "collapsed": false
   },
   "outputs": [
    {
     "data": {
      "text/html": [
       "<div>\n",
       "<table border=\"1\" class=\"dataframe\">\n",
       "  <thead>\n",
       "    <tr style=\"text-align: right;\">\n",
       "      <th></th>\n",
       "      <th>PRODUCT</th>\n",
       "      <th>FARM</th>\n",
       "      <th>CT</th>\n",
       "      <th>PRICE</th>\n",
       "      <th>DATE</th>\n",
       "      <th>file_name</th>\n",
       "      <th>YEAR</th>\n",
       "      <th>MONTH</th>\n",
       "      <th>PRODUCT_LIST</th>\n",
       "      <th>QUANTITY</th>\n",
       "      <th>UNIT</th>\n",
       "      <th>PRICE_PER_UNIT</th>\n",
       "      <th>CAT</th>\n",
       "    </tr>\n",
       "  </thead>\n",
       "  <tbody>\n",
       "    <tr>\n",
       "      <th>0</th>\n",
       "      <td>super baby chicory mix</td>\n",
       "      <td>marin</td>\n",
       "      <td>3 lb</td>\n",
       "      <td>24</td>\n",
       "      <td>01.05.15.</td>\n",
       "      <td>../LISTS by GROUP/Bay Area Resturants/2015/Cit...</td>\n",
       "      <td>15</td>\n",
       "      <td>1</td>\n",
       "      <td>[super, baby, chicory, mix]</td>\n",
       "      <td>3</td>\n",
       "      <td>lb</td>\n",
       "      <td>8</td>\n",
       "      <td>chicory</td>\n",
       "    </tr>\n",
       "    <tr>\n",
       "      <th>1</th>\n",
       "      <td>super baby chicory mix</td>\n",
       "      <td>marin</td>\n",
       "      <td>3 lb</td>\n",
       "      <td>24</td>\n",
       "      <td>01.09.15.</td>\n",
       "      <td>../LISTS by GROUP/Bay Area Resturants/2015/Cit...</td>\n",
       "      <td>15</td>\n",
       "      <td>1</td>\n",
       "      <td>[super, baby, chicory, mix]</td>\n",
       "      <td>3</td>\n",
       "      <td>lb</td>\n",
       "      <td>8</td>\n",
       "      <td>chicory</td>\n",
       "    </tr>\n",
       "    <tr>\n",
       "      <th>2</th>\n",
       "      <td>super baby chicory mix</td>\n",
       "      <td>marin</td>\n",
       "      <td>3 lb</td>\n",
       "      <td>24</td>\n",
       "      <td>01.13.15.</td>\n",
       "      <td>../LISTS by GROUP/Bay Area Resturants/2015/Cit...</td>\n",
       "      <td>15</td>\n",
       "      <td>1</td>\n",
       "      <td>[super, baby, chicory, mix]</td>\n",
       "      <td>3</td>\n",
       "      <td>lb</td>\n",
       "      <td>8</td>\n",
       "      <td>chicory</td>\n",
       "    </tr>\n",
       "    <tr>\n",
       "      <th>3</th>\n",
       "      <td>super baby chicory mix</td>\n",
       "      <td>marin</td>\n",
       "      <td>3 lb</td>\n",
       "      <td>24</td>\n",
       "      <td>01.16.15.</td>\n",
       "      <td>../LISTS by GROUP/Bay Area Resturants/2015/Cit...</td>\n",
       "      <td>15</td>\n",
       "      <td>1</td>\n",
       "      <td>[super, baby, chicory, mix]</td>\n",
       "      <td>3</td>\n",
       "      <td>lb</td>\n",
       "      <td>8</td>\n",
       "      <td>chicory</td>\n",
       "    </tr>\n",
       "    <tr>\n",
       "      <th>4</th>\n",
       "      <td>super baby chicory mix</td>\n",
       "      <td>marin</td>\n",
       "      <td>3 lb</td>\n",
       "      <td>24</td>\n",
       "      <td>01.20.15.</td>\n",
       "      <td>../LISTS by GROUP/Bay Area Resturants/2015/Cit...</td>\n",
       "      <td>15</td>\n",
       "      <td>1</td>\n",
       "      <td>[super, baby, chicory, mix]</td>\n",
       "      <td>3</td>\n",
       "      <td>lb</td>\n",
       "      <td>8</td>\n",
       "      <td>chicory</td>\n",
       "    </tr>\n",
       "  </tbody>\n",
       "</table>\n",
       "</div>"
      ],
      "text/plain": [
       "                  PRODUCT   FARM    CT  PRICE       DATE  \\\n",
       "0  super baby chicory mix  marin  3 lb     24  01.05.15.   \n",
       "1  super baby chicory mix  marin  3 lb     24  01.09.15.   \n",
       "2  super baby chicory mix  marin  3 lb     24  01.13.15.   \n",
       "3  super baby chicory mix  marin  3 lb     24  01.16.15.   \n",
       "4  super baby chicory mix  marin  3 lb     24  01.20.15.   \n",
       "\n",
       "                                           file_name  YEAR  MONTH  \\\n",
       "0  ../LISTS by GROUP/Bay Area Resturants/2015/Cit...    15      1   \n",
       "1  ../LISTS by GROUP/Bay Area Resturants/2015/Cit...    15      1   \n",
       "2  ../LISTS by GROUP/Bay Area Resturants/2015/Cit...    15      1   \n",
       "3  ../LISTS by GROUP/Bay Area Resturants/2015/Cit...    15      1   \n",
       "4  ../LISTS by GROUP/Bay Area Resturants/2015/Cit...    15      1   \n",
       "\n",
       "                  PRODUCT_LIST  QUANTITY UNIT  PRICE_PER_UNIT      CAT  \n",
       "0  [super, baby, chicory, mix]         3   lb               8  chicory  \n",
       "1  [super, baby, chicory, mix]         3   lb               8  chicory  \n",
       "2  [super, baby, chicory, mix]         3   lb               8  chicory  \n",
       "3  [super, baby, chicory, mix]         3   lb               8  chicory  \n",
       "4  [super, baby, chicory, mix]         3   lb               8  chicory  "
      ]
     },
     "execution_count": 263,
     "metadata": {},
     "output_type": "execute_result"
    }
   ],
   "source": [
    "input_data = pd.read_csv('../Restaurants/cleaned_res_data2.csv').drop(['Unnamed: 0'],axis=1)\n",
    "input_data.head()"
   ]
  },
  {
   "cell_type": "code",
   "execution_count": 264,
   "metadata": {
    "collapsed": false
   },
   "outputs": [],
   "source": [
    "input_data[['YEAR','MONTH']] = input_data[['YEAR','MONTH']].astype(float)"
   ]
  },
  {
   "cell_type": "code",
   "execution_count": 265,
   "metadata": {
    "collapsed": false
   },
   "outputs": [],
   "source": [
    "#calculate continuous date variable\n",
    "input_data['DATEFAC'] = (input_data['YEAR']-12) + (input_data['MONTH']-1)/12"
   ]
  },
  {
   "cell_type": "code",
   "execution_count": 266,
   "metadata": {
    "collapsed": false
   },
   "outputs": [],
   "source": [
    "#drop unnecessary fields\n",
    "data = input_data.drop(['DATE', 'CT', 'file_name', 'PRODUCT_LIST','MONTH','YEAR'], axis=1)[input_data['PRICE_PER_UNIT'].notnull()].reset_index(drop=True)\n",
    "data['intercept']=1.0"
   ]
  },
  {
   "cell_type": "code",
   "execution_count": 267,
   "metadata": {
    "collapsed": false
   },
   "outputs": [],
   "source": [
    "#get dummies\n",
    "#data_dummy = pd.get_dummies(data, columns=[u'FARM', u'UNIT', U'CAT'])\n",
    "data_dummy = pd.get_dummies(data, columns=[u'UNIT','CAT'])\n",
    "data_dummy = pd.concat([data_dummy, data['CAT']],axis=1)"
   ]
  },
  {
   "cell_type": "code",
   "execution_count": 268,
   "metadata": {
    "collapsed": false
   },
   "outputs": [
    {
     "data": {
      "text/html": [
       "<div>\n",
       "<table border=\"1\" class=\"dataframe\">\n",
       "  <thead>\n",
       "    <tr style=\"text-align: right;\">\n",
       "      <th></th>\n",
       "      <th>0</th>\n",
       "      <th>1</th>\n",
       "      <th>2</th>\n",
       "      <th>3</th>\n",
       "      <th>4</th>\n",
       "    </tr>\n",
       "  </thead>\n",
       "  <tbody>\n",
       "    <tr>\n",
       "      <th>PRODUCT</th>\n",
       "      <td>super baby chicory mix</td>\n",
       "      <td>super baby chicory mix</td>\n",
       "      <td>super baby chicory mix</td>\n",
       "      <td>super baby chicory mix</td>\n",
       "      <td>super baby chicory mix</td>\n",
       "    </tr>\n",
       "    <tr>\n",
       "      <th>FARM</th>\n",
       "      <td>marin</td>\n",
       "      <td>marin</td>\n",
       "      <td>marin</td>\n",
       "      <td>marin</td>\n",
       "      <td>marin</td>\n",
       "    </tr>\n",
       "    <tr>\n",
       "      <th>PRICE</th>\n",
       "      <td>24</td>\n",
       "      <td>24</td>\n",
       "      <td>24</td>\n",
       "      <td>24</td>\n",
       "      <td>24</td>\n",
       "    </tr>\n",
       "    <tr>\n",
       "      <th>QUANTITY</th>\n",
       "      <td>3</td>\n",
       "      <td>3</td>\n",
       "      <td>3</td>\n",
       "      <td>3</td>\n",
       "      <td>3</td>\n",
       "    </tr>\n",
       "    <tr>\n",
       "      <th>PRICE_PER_UNIT</th>\n",
       "      <td>8</td>\n",
       "      <td>8</td>\n",
       "      <td>8</td>\n",
       "      <td>8</td>\n",
       "      <td>8</td>\n",
       "    </tr>\n",
       "    <tr>\n",
       "      <th>DATEFAC</th>\n",
       "      <td>3</td>\n",
       "      <td>3</td>\n",
       "      <td>3</td>\n",
       "      <td>3</td>\n",
       "      <td>3</td>\n",
       "    </tr>\n",
       "    <tr>\n",
       "      <th>intercept</th>\n",
       "      <td>1</td>\n",
       "      <td>1</td>\n",
       "      <td>1</td>\n",
       "      <td>1</td>\n",
       "      <td>1</td>\n",
       "    </tr>\n",
       "    <tr>\n",
       "      <th>UNIT_bu</th>\n",
       "      <td>0</td>\n",
       "      <td>0</td>\n",
       "      <td>0</td>\n",
       "      <td>0</td>\n",
       "      <td>0</td>\n",
       "    </tr>\n",
       "    <tr>\n",
       "      <th>UNIT_bulbs</th>\n",
       "      <td>0</td>\n",
       "      <td>0</td>\n",
       "      <td>0</td>\n",
       "      <td>0</td>\n",
       "      <td>0</td>\n",
       "    </tr>\n",
       "    <tr>\n",
       "      <th>UNIT_ct</th>\n",
       "      <td>0</td>\n",
       "      <td>0</td>\n",
       "      <td>0</td>\n",
       "      <td>0</td>\n",
       "      <td>0</td>\n",
       "    </tr>\n",
       "    <tr>\n",
       "      <th>UNIT_flat</th>\n",
       "      <td>0</td>\n",
       "      <td>0</td>\n",
       "      <td>0</td>\n",
       "      <td>0</td>\n",
       "      <td>0</td>\n",
       "    </tr>\n",
       "    <tr>\n",
       "      <th>UNIT_lb</th>\n",
       "      <td>1</td>\n",
       "      <td>1</td>\n",
       "      <td>1</td>\n",
       "      <td>1</td>\n",
       "      <td>1</td>\n",
       "    </tr>\n",
       "    <tr>\n",
       "      <th>UNIT_leaves</th>\n",
       "      <td>0</td>\n",
       "      <td>0</td>\n",
       "      <td>0</td>\n",
       "      <td>0</td>\n",
       "      <td>0</td>\n",
       "    </tr>\n",
       "    <tr>\n",
       "      <th>CAT_bean</th>\n",
       "      <td>0</td>\n",
       "      <td>0</td>\n",
       "      <td>0</td>\n",
       "      <td>0</td>\n",
       "      <td>0</td>\n",
       "    </tr>\n",
       "    <tr>\n",
       "      <th>CAT_bouquet</th>\n",
       "      <td>0</td>\n",
       "      <td>0</td>\n",
       "      <td>0</td>\n",
       "      <td>0</td>\n",
       "      <td>0</td>\n",
       "    </tr>\n",
       "    <tr>\n",
       "      <th>CAT_broccoli</th>\n",
       "      <td>0</td>\n",
       "      <td>0</td>\n",
       "      <td>0</td>\n",
       "      <td>0</td>\n",
       "      <td>0</td>\n",
       "    </tr>\n",
       "    <tr>\n",
       "      <th>CAT_chard</th>\n",
       "      <td>0</td>\n",
       "      <td>0</td>\n",
       "      <td>0</td>\n",
       "      <td>0</td>\n",
       "      <td>0</td>\n",
       "    </tr>\n",
       "    <tr>\n",
       "      <th>CAT_chicory</th>\n",
       "      <td>1</td>\n",
       "      <td>1</td>\n",
       "      <td>1</td>\n",
       "      <td>1</td>\n",
       "      <td>1</td>\n",
       "    </tr>\n",
       "    <tr>\n",
       "      <th>CAT_cucumber</th>\n",
       "      <td>0</td>\n",
       "      <td>0</td>\n",
       "      <td>0</td>\n",
       "      <td>0</td>\n",
       "      <td>0</td>\n",
       "    </tr>\n",
       "    <tr>\n",
       "      <th>CAT_fine green</th>\n",
       "      <td>0</td>\n",
       "      <td>0</td>\n",
       "      <td>0</td>\n",
       "      <td>0</td>\n",
       "      <td>0</td>\n",
       "    </tr>\n",
       "    <tr>\n",
       "      <th>CAT_fruit</th>\n",
       "      <td>0</td>\n",
       "      <td>0</td>\n",
       "      <td>0</td>\n",
       "      <td>0</td>\n",
       "      <td>0</td>\n",
       "    </tr>\n",
       "    <tr>\n",
       "      <th>CAT_herb</th>\n",
       "      <td>0</td>\n",
       "      <td>0</td>\n",
       "      <td>0</td>\n",
       "      <td>0</td>\n",
       "      <td>0</td>\n",
       "    </tr>\n",
       "    <tr>\n",
       "      <th>CAT_kale</th>\n",
       "      <td>0</td>\n",
       "      <td>0</td>\n",
       "      <td>0</td>\n",
       "      <td>0</td>\n",
       "      <td>0</td>\n",
       "    </tr>\n",
       "    <tr>\n",
       "      <th>CAT_melon</th>\n",
       "      <td>0</td>\n",
       "      <td>0</td>\n",
       "      <td>0</td>\n",
       "      <td>0</td>\n",
       "      <td>0</td>\n",
       "    </tr>\n",
       "    <tr>\n",
       "      <th>CAT_pepper</th>\n",
       "      <td>0</td>\n",
       "      <td>0</td>\n",
       "      <td>0</td>\n",
       "      <td>0</td>\n",
       "      <td>0</td>\n",
       "    </tr>\n",
       "    <tr>\n",
       "      <th>CAT_potato</th>\n",
       "      <td>0</td>\n",
       "      <td>0</td>\n",
       "      <td>0</td>\n",
       "      <td>0</td>\n",
       "      <td>0</td>\n",
       "    </tr>\n",
       "    <tr>\n",
       "      <th>CAT_root</th>\n",
       "      <td>0</td>\n",
       "      <td>0</td>\n",
       "      <td>0</td>\n",
       "      <td>0</td>\n",
       "      <td>0</td>\n",
       "    </tr>\n",
       "    <tr>\n",
       "      <th>CAT_salad mix</th>\n",
       "      <td>0</td>\n",
       "      <td>0</td>\n",
       "      <td>0</td>\n",
       "      <td>0</td>\n",
       "      <td>0</td>\n",
       "    </tr>\n",
       "    <tr>\n",
       "      <th>CAT_spinach</th>\n",
       "      <td>0</td>\n",
       "      <td>0</td>\n",
       "      <td>0</td>\n",
       "      <td>0</td>\n",
       "      <td>0</td>\n",
       "    </tr>\n",
       "    <tr>\n",
       "      <th>CAT_squash</th>\n",
       "      <td>0</td>\n",
       "      <td>0</td>\n",
       "      <td>0</td>\n",
       "      <td>0</td>\n",
       "      <td>0</td>\n",
       "    </tr>\n",
       "    <tr>\n",
       "      <th>CAT</th>\n",
       "      <td>chicory</td>\n",
       "      <td>chicory</td>\n",
       "      <td>chicory</td>\n",
       "      <td>chicory</td>\n",
       "      <td>chicory</td>\n",
       "    </tr>\n",
       "  </tbody>\n",
       "</table>\n",
       "</div>"
      ],
      "text/plain": [
       "                                     0                       1  \\\n",
       "PRODUCT         super baby chicory mix  super baby chicory mix   \n",
       "FARM                             marin                   marin   \n",
       "PRICE                               24                      24   \n",
       "QUANTITY                             3                       3   \n",
       "PRICE_PER_UNIT                       8                       8   \n",
       "DATEFAC                              3                       3   \n",
       "intercept                            1                       1   \n",
       "UNIT_bu                              0                       0   \n",
       "UNIT_bulbs                           0                       0   \n",
       "UNIT_ct                              0                       0   \n",
       "UNIT_flat                            0                       0   \n",
       "UNIT_lb                              1                       1   \n",
       "UNIT_leaves                          0                       0   \n",
       "CAT_bean                             0                       0   \n",
       "CAT_bouquet                          0                       0   \n",
       "CAT_broccoli                         0                       0   \n",
       "CAT_chard                            0                       0   \n",
       "CAT_chicory                          1                       1   \n",
       "CAT_cucumber                         0                       0   \n",
       "CAT_fine green                       0                       0   \n",
       "CAT_fruit                            0                       0   \n",
       "CAT_herb                             0                       0   \n",
       "CAT_kale                             0                       0   \n",
       "CAT_melon                            0                       0   \n",
       "CAT_pepper                           0                       0   \n",
       "CAT_potato                           0                       0   \n",
       "CAT_root                             0                       0   \n",
       "CAT_salad mix                        0                       0   \n",
       "CAT_spinach                          0                       0   \n",
       "CAT_squash                           0                       0   \n",
       "CAT                            chicory                 chicory   \n",
       "\n",
       "                                     2                       3  \\\n",
       "PRODUCT         super baby chicory mix  super baby chicory mix   \n",
       "FARM                             marin                   marin   \n",
       "PRICE                               24                      24   \n",
       "QUANTITY                             3                       3   \n",
       "PRICE_PER_UNIT                       8                       8   \n",
       "DATEFAC                              3                       3   \n",
       "intercept                            1                       1   \n",
       "UNIT_bu                              0                       0   \n",
       "UNIT_bulbs                           0                       0   \n",
       "UNIT_ct                              0                       0   \n",
       "UNIT_flat                            0                       0   \n",
       "UNIT_lb                              1                       1   \n",
       "UNIT_leaves                          0                       0   \n",
       "CAT_bean                             0                       0   \n",
       "CAT_bouquet                          0                       0   \n",
       "CAT_broccoli                         0                       0   \n",
       "CAT_chard                            0                       0   \n",
       "CAT_chicory                          1                       1   \n",
       "CAT_cucumber                         0                       0   \n",
       "CAT_fine green                       0                       0   \n",
       "CAT_fruit                            0                       0   \n",
       "CAT_herb                             0                       0   \n",
       "CAT_kale                             0                       0   \n",
       "CAT_melon                            0                       0   \n",
       "CAT_pepper                           0                       0   \n",
       "CAT_potato                           0                       0   \n",
       "CAT_root                             0                       0   \n",
       "CAT_salad mix                        0                       0   \n",
       "CAT_spinach                          0                       0   \n",
       "CAT_squash                           0                       0   \n",
       "CAT                            chicory                 chicory   \n",
       "\n",
       "                                     4  \n",
       "PRODUCT         super baby chicory mix  \n",
       "FARM                             marin  \n",
       "PRICE                               24  \n",
       "QUANTITY                             3  \n",
       "PRICE_PER_UNIT                       8  \n",
       "DATEFAC                              3  \n",
       "intercept                            1  \n",
       "UNIT_bu                              0  \n",
       "UNIT_bulbs                           0  \n",
       "UNIT_ct                              0  \n",
       "UNIT_flat                            0  \n",
       "UNIT_lb                              1  \n",
       "UNIT_leaves                          0  \n",
       "CAT_bean                             0  \n",
       "CAT_bouquet                          0  \n",
       "CAT_broccoli                         0  \n",
       "CAT_chard                            0  \n",
       "CAT_chicory                          1  \n",
       "CAT_cucumber                         0  \n",
       "CAT_fine green                       0  \n",
       "CAT_fruit                            0  \n",
       "CAT_herb                             0  \n",
       "CAT_kale                             0  \n",
       "CAT_melon                            0  \n",
       "CAT_pepper                           0  \n",
       "CAT_potato                           0  \n",
       "CAT_root                             0  \n",
       "CAT_salad mix                        0  \n",
       "CAT_spinach                          0  \n",
       "CAT_squash                           0  \n",
       "CAT                            chicory  "
      ]
     },
     "execution_count": 268,
     "metadata": {},
     "output_type": "execute_result"
    }
   ],
   "source": [
    "# data_dummy.apply(lambda x['CAT']: 'kale' if 'a else x)\n",
    "# data_dummy['CAT'] = data_dummy['CAT'].map(lambda x: 'chard' if 'chard' in x else x)\n",
    "# data_dummy['CAT'] = data_dummy['CAT'].map(lambda x: 'broccoli' if 'broccoli' in x else x)\n",
    "data_dummy.head().T"
   ]
  },
  {
   "cell_type": "code",
   "execution_count": 269,
   "metadata": {
    "collapsed": false
   },
   "outputs": [],
   "source": [
    "#  Add in fields for Quantity * Unit\n",
    "data_dummy[u'QUANTITY_UNIT_bu'] = data_dummy[[u'QUANTITY','UNIT_bu']].product(axis=1)\n",
    "data_dummy[u'QUANTITY_UNIT_bulbs'] = data_dummy[[u'QUANTITY','UNIT_bulbs']].product(axis=1)\n",
    "data_dummy[u'QUANTITY_UNIT_ct'] = data_dummy[[u'QUANTITY','UNIT_ct']].product(axis=1)\n",
    "data_dummy[u'QUANTITY_UNIT_flat'] = data_dummy[[u'QUANTITY','UNIT_flat']].product(axis=1)\n",
    "data_dummy[u'QUANTITY_UNIT_lb'] = data_dummy[[u'QUANTITY','UNIT_lb']].product(axis=1)\n",
    "data_dummy[u'QUANTITY_UNIT_leaves'] = data_dummy[[u'QUANTITY','UNIT_leaves']].product(axis=1)"
   ]
  },
  {
   "cell_type": "code",
   "execution_count": 270,
   "metadata": {
    "collapsed": false,
    "scrolled": false
   },
   "outputs": [
    {
     "data": {
      "text/html": [
       "<table class=\"simpletable\">\n",
       "<caption>OLS Regression Results</caption>\n",
       "<tr>\n",
       "  <th>Dep. Variable:</th>     <td>PRICE_PER_UNIT</td>  <th>  R-squared:         </th> <td>   0.608</td> \n",
       "</tr>\n",
       "<tr>\n",
       "  <th>Model:</th>                   <td>OLS</td>       <th>  Adj. R-squared:    </th> <td>   0.608</td> \n",
       "</tr>\n",
       "<tr>\n",
       "  <th>Method:</th>             <td>Least Squares</td>  <th>  F-statistic:       </th> <td>   1229.</td> \n",
       "</tr>\n",
       "<tr>\n",
       "  <th>Date:</th>             <td>Tue, 18 Aug 2015</td> <th>  Prob (F-statistic):</th>  <td>  0.00</td>  \n",
       "</tr>\n",
       "<tr>\n",
       "  <th>Time:</th>                 <td>13:59:30</td>     <th>  Log-Likelihood:    </th> <td> -58436.</td> \n",
       "</tr>\n",
       "<tr>\n",
       "  <th>No. Observations:</th>      <td> 19821</td>      <th>  AIC:               </th> <td>1.169e+05</td>\n",
       "</tr>\n",
       "<tr>\n",
       "  <th>Df Residuals:</th>          <td> 19795</td>      <th>  BIC:               </th> <td>1.171e+05</td>\n",
       "</tr>\n",
       "<tr>\n",
       "  <th>Df Model:</th>              <td>    25</td>      <th>                     </th>     <td> </td>    \n",
       "</tr>\n",
       "<tr>\n",
       "  <th>Covariance Type:</th>      <td>nonrobust</td>    <th>                     </th>     <td> </td>    \n",
       "</tr>\n",
       "</table>\n",
       "<table class=\"simpletable\">\n",
       "<tr>\n",
       "            <td></td>              <th>coef</th>     <th>std err</th>      <th>t</th>      <th>P>|t|</th> <th>[95.0% Conf. Int.]</th> \n",
       "</tr>\n",
       "<tr>\n",
       "  <th>QUANTITY</th>             <td>    1.8696</td> <td>    0.098</td> <td>   19.111</td> <td> 0.000</td> <td>    1.678     2.061</td>\n",
       "</tr>\n",
       "<tr>\n",
       "  <th>DATEFAC</th>              <td>   -0.0120</td> <td>    0.060</td> <td>   -0.200</td> <td> 0.842</td> <td>   -0.130     0.106</td>\n",
       "</tr>\n",
       "<tr>\n",
       "  <th>intercept</th>            <td>  -26.5317</td> <td>    1.666</td> <td>  -15.926</td> <td> 0.000</td> <td>  -29.797   -23.266</td>\n",
       "</tr>\n",
       "<tr>\n",
       "  <th>UNIT_bulbs</th>           <td>    0.0042</td> <td>    0.016</td> <td>    0.265</td> <td> 0.791</td> <td>   -0.027     0.035</td>\n",
       "</tr>\n",
       "<tr>\n",
       "  <th>UNIT_ct</th>              <td>   21.8376</td> <td>    1.178</td> <td>   18.533</td> <td> 0.000</td> <td>   19.528    24.147</td>\n",
       "</tr>\n",
       "<tr>\n",
       "  <th>UNIT_flat</th>            <td>   26.3923</td> <td>    0.584</td> <td>   45.199</td> <td> 0.000</td> <td>   25.248    27.537</td>\n",
       "</tr>\n",
       "<tr>\n",
       "  <th>UNIT_lb</th>              <td>   32.4527</td> <td>    1.166</td> <td>   27.825</td> <td> 0.000</td> <td>   30.167    34.739</td>\n",
       "</tr>\n",
       "<tr>\n",
       "  <th>UNIT_leaves</th>          <td>   -0.0814</td> <td>    0.004</td> <td>  -18.211</td> <td> 0.000</td> <td>   -0.090    -0.073</td>\n",
       "</tr>\n",
       "<tr>\n",
       "  <th>CAT_bouquet</th>          <td>    7.8413</td> <td>    2.027</td> <td>    3.869</td> <td> 0.000</td> <td>    3.869    11.814</td>\n",
       "</tr>\n",
       "<tr>\n",
       "  <th>CAT_broccoli</th>         <td>    6.3406</td> <td>    1.220</td> <td>    5.196</td> <td> 0.000</td> <td>    3.949     8.733</td>\n",
       "</tr>\n",
       "<tr>\n",
       "  <th>CAT_chard</th>            <td>    4.4407</td> <td>    1.206</td> <td>    3.683</td> <td> 0.000</td> <td>    2.077     6.804</td>\n",
       "</tr>\n",
       "<tr>\n",
       "  <th>CAT_chicory</th>          <td>    1.3732</td> <td>    1.199</td> <td>    1.145</td> <td> 0.252</td> <td>   -0.977     3.723</td>\n",
       "</tr>\n",
       "<tr>\n",
       "  <th>CAT_cucumber</th>         <td>   -0.2481</td> <td>    1.257</td> <td>   -0.197</td> <td> 0.844</td> <td>   -2.712     2.216</td>\n",
       "</tr>\n",
       "<tr>\n",
       "  <th>CAT_fine green</th>       <td>    2.1451</td> <td>    1.195</td> <td>    1.794</td> <td> 0.073</td> <td>   -0.198     4.488</td>\n",
       "</tr>\n",
       "<tr>\n",
       "  <th>CAT_fruit</th>            <td>    2.4203</td> <td>    1.234</td> <td>    1.961</td> <td> 0.050</td> <td>    0.001     4.840</td>\n",
       "</tr>\n",
       "<tr>\n",
       "  <th>CAT_herb</th>             <td>   17.2835</td> <td>    1.200</td> <td>   14.408</td> <td> 0.000</td> <td>   14.932    19.635</td>\n",
       "</tr>\n",
       "<tr>\n",
       "  <th>CAT_kale</th>             <td>    3.1044</td> <td>    1.200</td> <td>    2.586</td> <td> 0.010</td> <td>    0.752     5.457</td>\n",
       "</tr>\n",
       "<tr>\n",
       "  <th>CAT_melon</th>            <td>    5.2371</td> <td>    1.362</td> <td>    3.846</td> <td> 0.000</td> <td>    2.568     7.906</td>\n",
       "</tr>\n",
       "<tr>\n",
       "  <th>CAT_pepper</th>           <td>    0.3713</td> <td>    1.283</td> <td>    0.289</td> <td> 0.772</td> <td>   -2.144     2.886</td>\n",
       "</tr>\n",
       "<tr>\n",
       "  <th>CAT_potato</th>           <td>    5.8700</td> <td>    1.203</td> <td>    4.878</td> <td> 0.000</td> <td>    3.511     8.229</td>\n",
       "</tr>\n",
       "<tr>\n",
       "  <th>CAT_root</th>             <td>    4.0538</td> <td>    1.196</td> <td>    3.388</td> <td> 0.001</td> <td>    1.709     6.399</td>\n",
       "</tr>\n",
       "<tr>\n",
       "  <th>CAT_salad mix</th>        <td>    1.5430</td> <td>    1.198</td> <td>    1.288</td> <td> 0.198</td> <td>   -0.805     3.891</td>\n",
       "</tr>\n",
       "<tr>\n",
       "  <th>CAT_spinach</th>          <td>    1.7306</td> <td>    1.211</td> <td>    1.429</td> <td> 0.153</td> <td>   -0.643     4.104</td>\n",
       "</tr>\n",
       "<tr>\n",
       "  <th>CAT_squash</th>           <td>    4.1297</td> <td>    1.342</td> <td>    3.077</td> <td> 0.002</td> <td>    1.499     6.760</td>\n",
       "</tr>\n",
       "<tr>\n",
       "  <th>QUANTITY_UNIT_bulbs</th>  <td>    0.0507</td> <td>    0.191</td> <td>    0.265</td> <td> 0.791</td> <td>   -0.324     0.426</td>\n",
       "</tr>\n",
       "<tr>\n",
       "  <th>QUANTITY_UNIT_ct</th>     <td>   -1.8054</td> <td>    0.098</td> <td>  -18.418</td> <td> 0.000</td> <td>   -1.998    -1.613</td>\n",
       "</tr>\n",
       "<tr>\n",
       "  <th>QUANTITY_UNIT_flat</th>   <td>   26.3923</td> <td>    0.584</td> <td>   45.199</td> <td> 0.000</td> <td>   25.248    27.537</td>\n",
       "</tr>\n",
       "<tr>\n",
       "  <th>QUANTITY_UNIT_lb</th>     <td>   -2.3514</td> <td>    0.098</td> <td>  -24.014</td> <td> 0.000</td> <td>   -2.543    -2.160</td>\n",
       "</tr>\n",
       "<tr>\n",
       "  <th>QUANTITY_UNIT_leaves</th> <td>   -1.2211</td> <td>    0.067</td> <td>  -18.211</td> <td> 0.000</td> <td>   -1.353    -1.090</td>\n",
       "</tr>\n",
       "</table>\n",
       "<table class=\"simpletable\">\n",
       "<tr>\n",
       "  <th>Omnibus:</th>       <td>15201.723</td> <th>  Durbin-Watson:     </th>  <td>   0.279</td> \n",
       "</tr>\n",
       "<tr>\n",
       "  <th>Prob(Omnibus):</th>  <td> 0.000</td>   <th>  Jarque-Bera (JB):  </th> <td>836668.259</td>\n",
       "</tr>\n",
       "<tr>\n",
       "  <th>Skew:</th>           <td> 3.205</td>   <th>  Prob(JB):          </th>  <td>    0.00</td> \n",
       "</tr>\n",
       "<tr>\n",
       "  <th>Kurtosis:</th>       <td>34.177</td>   <th>  Cond. No.          </th>  <td>1.13e+16</td> \n",
       "</tr>\n",
       "</table>"
      ],
      "text/plain": [
       "<class 'statsmodels.iolib.summary.Summary'>\n",
       "\"\"\"\n",
       "                            OLS Regression Results                            \n",
       "==============================================================================\n",
       "Dep. Variable:         PRICE_PER_UNIT   R-squared:                       0.608\n",
       "Model:                            OLS   Adj. R-squared:                  0.608\n",
       "Method:                 Least Squares   F-statistic:                     1229.\n",
       "Date:                Tue, 18 Aug 2015   Prob (F-statistic):               0.00\n",
       "Time:                        13:59:30   Log-Likelihood:                -58436.\n",
       "No. Observations:               19821   AIC:                         1.169e+05\n",
       "Df Residuals:                   19795   BIC:                         1.171e+05\n",
       "Df Model:                          25                                         \n",
       "Covariance Type:            nonrobust                                         \n",
       "========================================================================================\n",
       "                           coef    std err          t      P>|t|      [95.0% Conf. Int.]\n",
       "----------------------------------------------------------------------------------------\n",
       "QUANTITY                 1.8696      0.098     19.111      0.000         1.678     2.061\n",
       "DATEFAC                 -0.0120      0.060     -0.200      0.842        -0.130     0.106\n",
       "intercept              -26.5317      1.666    -15.926      0.000       -29.797   -23.266\n",
       "UNIT_bulbs               0.0042      0.016      0.265      0.791        -0.027     0.035\n",
       "UNIT_ct                 21.8376      1.178     18.533      0.000        19.528    24.147\n",
       "UNIT_flat               26.3923      0.584     45.199      0.000        25.248    27.537\n",
       "UNIT_lb                 32.4527      1.166     27.825      0.000        30.167    34.739\n",
       "UNIT_leaves             -0.0814      0.004    -18.211      0.000        -0.090    -0.073\n",
       "CAT_bouquet              7.8413      2.027      3.869      0.000         3.869    11.814\n",
       "CAT_broccoli             6.3406      1.220      5.196      0.000         3.949     8.733\n",
       "CAT_chard                4.4407      1.206      3.683      0.000         2.077     6.804\n",
       "CAT_chicory              1.3732      1.199      1.145      0.252        -0.977     3.723\n",
       "CAT_cucumber            -0.2481      1.257     -0.197      0.844        -2.712     2.216\n",
       "CAT_fine green           2.1451      1.195      1.794      0.073        -0.198     4.488\n",
       "CAT_fruit                2.4203      1.234      1.961      0.050         0.001     4.840\n",
       "CAT_herb                17.2835      1.200     14.408      0.000        14.932    19.635\n",
       "CAT_kale                 3.1044      1.200      2.586      0.010         0.752     5.457\n",
       "CAT_melon                5.2371      1.362      3.846      0.000         2.568     7.906\n",
       "CAT_pepper               0.3713      1.283      0.289      0.772        -2.144     2.886\n",
       "CAT_potato               5.8700      1.203      4.878      0.000         3.511     8.229\n",
       "CAT_root                 4.0538      1.196      3.388      0.001         1.709     6.399\n",
       "CAT_salad mix            1.5430      1.198      1.288      0.198        -0.805     3.891\n",
       "CAT_spinach              1.7306      1.211      1.429      0.153        -0.643     4.104\n",
       "CAT_squash               4.1297      1.342      3.077      0.002         1.499     6.760\n",
       "QUANTITY_UNIT_bulbs      0.0507      0.191      0.265      0.791        -0.324     0.426\n",
       "QUANTITY_UNIT_ct        -1.8054      0.098    -18.418      0.000        -1.998    -1.613\n",
       "QUANTITY_UNIT_flat      26.3923      0.584     45.199      0.000        25.248    27.537\n",
       "QUANTITY_UNIT_lb        -2.3514      0.098    -24.014      0.000        -2.543    -2.160\n",
       "QUANTITY_UNIT_leaves    -1.2211      0.067    -18.211      0.000        -1.353    -1.090\n",
       "==============================================================================\n",
       "Omnibus:                    15201.723   Durbin-Watson:                   0.279\n",
       "Prob(Omnibus):                  0.000   Jarque-Bera (JB):           836668.259\n",
       "Skew:                           3.205   Prob(JB):                         0.00\n",
       "Kurtosis:                      34.177   Cond. No.                     1.13e+16\n",
       "==============================================================================\n",
       "\n",
       "Warnings:\n",
       "[1] Standard Errors assume that the covariance matrix of the errors is correctly specified.\n",
       "[2] The smallest eigenvalue is 8.37e-26. This might indicate that there are\n",
       "strong multicollinearity problems or that the design matrix is singular.\n",
       "\"\"\""
      ]
     },
     "execution_count": 270,
     "metadata": {},
     "output_type": "execute_result"
    }
   ],
   "source": [
    "ols_data = data_dummy.copy()\n",
    "y = ols_data.pop('PRICE_PER_UNIT')\n",
    "mdl_data = ols_data.drop(['PRODUCT','CAT_bean','CAT','FARM','UNIT_bu','QUANTITY_UNIT_bu', 'PRICE'],axis=1)\n",
    "mdl = sm.OLS(y, mdl_data)\n",
    "results = mdl.fit()\n",
    "results.summary()"
   ]
  },
  {
   "cell_type": "markdown",
   "metadata": {},
   "source": [
    "#Randomized PCA"
   ]
  },
  {
   "cell_type": "code",
   "execution_count": 271,
   "metadata": {
    "collapsed": false
   },
   "outputs": [
    {
     "name": "stdout",
     "output_type": "stream",
     "text": [
      "(19821, 37)\n",
      "(19821, 30)\n"
     ]
    }
   ],
   "source": [
    "# try CountVectorizer: best adj r2 for 30 components using RandomizedPCA, set maxfeatures to 50 ~ .722\n",
    "vec_machine = CountVectorizer(max_features=30)\n",
    "word_matrix = vec_machine.fit_transform(data_dummy['PRODUCT'])\n",
    "words = pd.DataFrame(word_matrix.todense().astype(np.float))\n",
    "words.columns = vec_machine.get_feature_names()\n",
    "print data_dummy.shape\n",
    "print words.shape"
   ]
  },
  {
   "cell_type": "code",
   "execution_count": 272,
   "metadata": {
    "collapsed": false
   },
   "outputs": [
    {
     "name": "stdout",
     "output_type": "stream",
     "text": [
      "(19821, 37)\n",
      "(19821, 15)\n"
     ]
    }
   ],
   "source": [
    "# try TFIDF: best adj r2 for 30 components using RandomizedPCA, set maxfeatures to 50 ~ .73, .735 for maxf = 60 and comp=40\n",
    "#Random Forest: r2 ~.96 for max_features = 15, n_components = 5\n",
    "vec_machine = TfidfVectorizer(max_features=15)\n",
    "word_matrix = vec_machine.fit_transform(data_dummy['PRODUCT'])\n",
    "words = pd.DataFrame(word_matrix.todense().astype(np.float))\n",
    "words.columns = vec_machine.get_feature_names()\n",
    "print data_dummy.shape\n",
    "print words.shape"
   ]
  },
  {
   "cell_type": "code",
   "execution_count": 273,
   "metadata": {
    "collapsed": false
   },
   "outputs": [
    {
     "data": {
      "text/plain": [
       "RandomizedPCA(copy=True, iterated_power=3, n_components=5, random_state=None,\n",
       "       whiten=False)"
      ]
     },
     "execution_count": 273,
     "metadata": {},
     "output_type": "execute_result"
    }
   ],
   "source": [
    "rpca = decomposition.RandomizedPCA(n_components=5)\n",
    "rpca.fit(words)"
   ]
  },
  {
   "cell_type": "code",
   "execution_count": 274,
   "metadata": {
    "collapsed": false
   },
   "outputs": [],
   "source": [
    "from sklearn.preprocessing import scale\n",
    "\n",
    "multi_regress = words.copy()\n",
    "\n",
    "X_pca = rpca.fit_transform(scale(multi_regress.as_matrix()))"
   ]
  },
  {
   "cell_type": "code",
   "execution_count": 289,
   "metadata": {
    "collapsed": false
   },
   "outputs": [],
   "source": [
    "ols_data = rf_data.copy()\n",
    "y = ols_data['PRICE_PER_UNIT']\n",
    "mdl_data = ols_data.drop(['PRICE_PER_UNIT','PRODUCT','CAT_bean','CAT','FARM','UNIT_bu','QUANTITY_UNIT_bu', 'PRICE'],axis=1)\n",
    "mdl = sm.OLS(y, mdl_data)\n",
    "results = mdl.fit()\n",
    "results.summary()\n",
    "ols_data['PREDICTIONS'] = results.predict()"
   ]
  },
  {
   "cell_type": "code",
   "execution_count": 292,
   "metadata": {
    "collapsed": false
   },
   "outputs": [
    {
     "data": {
      "text/plain": [
       "1.1220543867615158"
      ]
     },
     "execution_count": 292,
     "metadata": {},
     "output_type": "execute_result"
    }
   ],
   "source": [
    "ols_data['ABS_ERROR'] = np.round(np.abs(ols_data['PRICE_PER_UNIT'] - ols_data['PREDICTIONS']),decimals=2)\n",
    "ols_data['TOTAL_PRICE_PRED'] = np.round(ols_data['QUANTITY']*ols_data['PREDICTIONS'],decimals=2)\n",
    "ols_data['TOTAL_PRICE_DIFF'] = np.round(np.abs(ols_data['PRICE'] - ols_data['TOTAL_PRICE_PRED']),decimals=2)\n",
    "ols_data['PERC_ERROR'] = np.round(ols_data['ABS_ERROR']/ols_data['PRICE_PER_UNIT'],decimals=2)\n",
    "np.mean(ols_data['PERC_ERROR'])"
   ]
  },
  {
   "cell_type": "markdown",
   "metadata": {},
   "source": [
    "# K-Fold Cross Validation"
   ]
  },
  {
   "cell_type": "code",
   "execution_count": 285,
   "metadata": {
    "collapsed": false
   },
   "outputs": [],
   "source": [
    "features = pd.DataFrame(X_pca)\n",
    "\n",
    "rf_data = pd.concat([data_dummy, features], axis=1).drop(['DATEFAC','UNIT_bulbs','QUANTITY_UNIT_bulbs'],axis=1).reset_index(drop=True)\n",
    "#rf_data = pd.concat([data_dummy, features], axis=1).drop(['DATEFAC','UNIT_bulbs','QUANTITY_UNIT_bu'],axis=1).reset_index(drop=True)\n",
    "#rf_data = data_dummy.drop(['DATEFAC','FARM_coachella','UNIT_bulbs','CAT_bean','QUANTITY_UNIT_bu'],axis=1).reset_index(drop=True)"
   ]
  },
  {
   "cell_type": "code",
   "execution_count": 276,
   "metadata": {
    "collapsed": false
   },
   "outputs": [
    {
     "data": {
      "text/plain": [
       "640"
      ]
     },
     "execution_count": 276,
     "metadata": {},
     "output_type": "execute_result"
    }
   ],
   "source": [
    "products = rf_data['PRODUCT'].unique()\n",
    "len(products)"
   ]
  },
  {
   "cell_type": "code",
   "execution_count": 283,
   "metadata": {
    "collapsed": false
   },
   "outputs": [
    {
     "name": "stdout",
     "output_type": "stream",
     "text": [
      "average score: -1.6601410401e+20\n"
     ]
    }
   ],
   "source": [
    "kf = cross_validation.KFold(len(products), n_folds=5, shuffle=True)\n",
    "results = []\n",
    "dollar_errors = []\n",
    "perc_errors = []\n",
    "med_error = []\n",
    "data_pred = rf_data.copy()\n",
    "data_pred['PREDICTIONS'] = -1\n",
    "for train_index, test_index in kf:\n",
    "    train_products = products[train_index]\n",
    "    train_data = rf_data[rf_data['PRODUCT'].isin(train_products)]\n",
    "    test_products = products[test_index]\n",
    "    #print test_products\n",
    "    test_data = rf_data[rf_data['PRODUCT'].isin(test_products)]\n",
    "    x_train = train_data.drop(['PRICE_PER_UNIT','PRODUCT', 'PRICE','CAT_bean','FARM','CAT'],axis=1)\n",
    "    y_train = train_data['PRICE_PER_UNIT']\n",
    "    x_test = test_data.drop(['PRICE_PER_UNIT','PRODUCT', 'PRICE','CAT_bean','FARM','CAT'],axis=1)\n",
    "    y_test = test_data['PRICE_PER_UNIT']\n",
    "    regr = LinearRegression()\n",
    "    #regr = RandomForestRegressor(n_estimators=5)\n",
    "    regr.fit(x_train, y_train)\n",
    "    predictions = regr.predict(x_test)\n",
    "#     for (prod, pred, true) in zip(test_products, predictions, y_test):\n",
    "#         if pred != true:\n",
    "#             print \"product:\", prod\n",
    "#             print \"prediction:\", pred\n",
    "#             print \"true y:\", true\n",
    "#             print \"-------------------------------------------\"\n",
    "#             dollar_errors.append(true - pred)\n",
    "#             perc_errors.append((true - pred)/true)\n",
    "    data_pred.iloc[test_data.index,-1] = np.round(predictions,decimals=2)\n",
    "    results.append(regr.score(x_test, y_test))\n",
    "print \"average score:\", np.mean(results)"
   ]
  },
  {
   "cell_type": "code",
   "execution_count": 284,
   "metadata": {
    "collapsed": false
   },
   "outputs": [
    {
     "data": {
      "text/plain": [
       "[-8.3007052005181437e+20,\n",
       " 0.69494571837141583,\n",
       " -157548074.8219544,\n",
       " 0.21561771657824669,\n",
       " 0.47402606668110958]"
      ]
     },
     "execution_count": 284,
     "metadata": {},
     "output_type": "execute_result"
    }
   ],
   "source": [
    "results"
   ]
  },
  {
   "cell_type": "code",
   "execution_count": 278,
   "metadata": {
    "collapsed": false
   },
   "outputs": [
    {
     "data": {
      "text/plain": [
       "2.3251990313304072"
      ]
     },
     "execution_count": 278,
     "metadata": {},
     "output_type": "execute_result"
    }
   ],
   "source": [
    "data_pred['ABS_ERROR'] = np.round(np.abs(data_pred['PRICE_PER_UNIT'] - data_pred['PREDICTIONS']),decimals=2)\n",
    "data_pred['TOTAL_PRICE_PRED'] = np.round(data_pred['QUANTITY']*data_pred['PREDICTIONS'],decimals=2)\n",
    "data_pred['TOTAL_PRICE_DIFF'] = np.round(np.abs(data_pred['PRICE'] - data_pred['TOTAL_PRICE_PRED']),decimals=2)\n",
    "data_pred['PERC_ERROR'] = np.round(data_pred['ABS_ERROR']/data_pred['PRICE_PER_UNIT'],decimals=2)\n",
    "np.mean(data_pred['TOTAL_PRICE_DIFF'])"
   ]
  },
  {
   "cell_type": "code",
   "execution_count": 279,
   "metadata": {
    "collapsed": false
   },
   "outputs": [
    {
     "data": {
      "text/plain": [
       "0.13214671308208467"
      ]
     },
     "execution_count": 279,
     "metadata": {},
     "output_type": "execute_result"
    }
   ],
   "source": [
    "np.mean(data_pred.PERC_ERROR)"
   ]
  },
  {
   "cell_type": "code",
   "execution_count": null,
   "metadata": {
    "collapsed": true
   },
   "outputs": [],
   "source": []
  }
 ],
 "metadata": {
  "kernelspec": {
   "display_name": "Python 2",
   "language": "python",
   "name": "python2"
  },
  "language_info": {
   "codemirror_mode": {
    "name": "ipython",
    "version": 2
   },
   "file_extension": ".py",
   "mimetype": "text/x-python",
   "name": "python",
   "nbconvert_exporter": "python",
   "pygments_lexer": "ipython2",
   "version": "2.7.10"
  }
 },
 "nbformat": 4,
 "nbformat_minor": 0
}
